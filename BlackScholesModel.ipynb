{
 "cells": [
  {
   "cell_type": "markdown",
   "id": "9b68997f",
   "metadata": {},
   "source": [
    "## Black-Scholes Model\n",
    "https://github.com/hardikroutray/QuantitativeFinance/blob/main/BlackScholesModel.ipynb\n",
    "\n",
    "We eliminate systematic(market) risk by combining positively and negatively correlated assets, for e.g. a long position in an option and a short position in the underlying stock\n",
    "\n",
    "### $\\Pi$ = V(S,t) - $\\Delta$S\n",
    "\n",
    "where\n",
    "\n",
    "### V(S,t) = option price, S = underlying stock\n",
    "\n",
    "### $dV(S,t) = \\frac{\\partial V}{\\partial t}dt + \\frac{\\partial V}{\\partial S}dS + \\frac{1}{2}\\sigma^{2}S^{2}\\frac{\\partial^{2} V}{\\partial S^{2}} dt$ \n",
    "### $d\\Pi = dV(S,t) - \\Delta dS$\n",
    "### => $d\\Pi = (\\frac{\\partial V}{\\partial t} + \\frac{1}{2}\\sigma^{2}S^{2}\\frac{\\partial^{2} V}{\\partial S^{2}}) dt + (\\frac{\\partial V}{\\partial S} - \\Delta)dS$ \n",
    "\n",
    "### Risk is reduced to zero if $\\Delta = \\frac{\\partial V}{\\partial S}$ i.e delta hedging"
   ]
  },
  {
   "cell_type": "markdown",
   "id": "7afa1b5d",
   "metadata": {},
   "source": [
    "Using no arbitrage principle, \n",
    "\n",
    "### $d\\Pi = r \\Pi dt$ \n",
    "\n",
    "where r is the risk free rate\n",
    "\n",
    "### $\\bf \\frac{\\partial V}{\\partial t} + \\frac{1}{2}\\sigma^{2}S^{2}\\frac{\\partial^{2} V}{\\partial S^{2}} + r S \\frac{\\partial V}{\\partial S} - r V = 0$ \n",
    "\n",
    "### $\\bf \\Theta + \\frac{1}{2}\\sigma^{2}S^{2}\\Gamma + r S \\Delta - r V = 0$"
   ]
  },
  {
   "cell_type": "code",
   "execution_count": 11,
   "id": "5180c322",
   "metadata": {},
   "outputs": [],
   "source": [
    "from scipy import stats\n",
    "import numpy as np\n",
    "from numpy import log, exp, sqrt"
   ]
  },
  {
   "cell_type": "markdown",
   "id": "92d9e137",
   "metadata": {},
   "source": [
    "## Exact Solution \n",
    "\n",
    "![image](./SolutionBS.jpeg)\n"
   ]
  },
  {
   "cell_type": "code",
   "execution_count": 3,
   "id": "474696f9",
   "metadata": {},
   "outputs": [],
   "source": [
    "def call_option_price(S, E, T, rf, sigma):\n",
    "    # first we have to calculate d1 and d2 parameters\n",
    "    d1 = (log(S / E) + (rf + sigma * sigma / 2.0) * T) / (sigma * sqrt(T))\n",
    "    d2 = d1 - sigma * sqrt(T)\n",
    "    print(\"The d1 and d2 parameters: %s, %s\" % (d1, d2))\n",
    "    # use the N(x) to calculate the price of the option\n",
    "    return S*stats.norm.cdf(d1)-E*exp(-rf*T)*stats.norm.cdf(d2)\n",
    "\n",
    "\n",
    "def put_option_price(S, E, T, rf, sigma):\n",
    "    # first we have to calculate d1 and d2 parameters\n",
    "    d1 = (log(S / E) + (rf + sigma * sigma / 2.0) * T) / (sigma * sqrt(T))\n",
    "    d2 = d1 - sigma * sqrt(T)\n",
    "    print(\"The d1 and d2 parameters: %s, %s\" % (d1, d2))\n",
    "    # use the N(x) to calculate the price of the option\n",
    "    return -S*stats.norm.cdf(-d1)+E*exp(-rf*T)*stats.norm.cdf(-d2)"
   ]
  },
  {
   "cell_type": "code",
   "execution_count": 5,
   "id": "ff344450",
   "metadata": {},
   "outputs": [
    {
     "name": "stdout",
     "output_type": "stream",
     "text": [
      "The d1 and d2 parameters: 0.35000000000000003, 0.15000000000000002\n",
      "Call option price according to Black-Scholes model:  10.450583572185565\n",
      "The d1 and d2 parameters: 0.35000000000000003, 0.15000000000000002\n",
      "Put option price according to Black-Scholes model:  5.573526022256971\n"
     ]
    }
   ],
   "source": [
    "# underlying stock price at t=0\n",
    "S0 = 100\n",
    "# strike price\n",
    "E = 100\n",
    "# expiry 1year=365days\n",
    "T = 1\n",
    "# risk-free rate\n",
    "rf = 0.05\n",
    "# volatility of the underlying stock\n",
    "sigma = 0.2\n",
    "\n",
    "print(\"Call option price according to Black-Scholes model: \", call_option_price(S0, E, T, rf, sigma))\n",
    "print(\"Put option price according to Black-Scholes model: \", put_option_price(S0, E, T, rf, sigma))"
   ]
  },
  {
   "cell_type": "markdown",
   "id": "f606a5ac",
   "metadata": {},
   "source": [
    "## Solution from Monte Carlo simulation"
   ]
  },
  {
   "cell_type": "code",
   "execution_count": 9,
   "id": "57ad86a7",
   "metadata": {},
   "outputs": [],
   "source": [
    "class OptionPricing:\n",
    "    \n",
    "    def __init__(self,S0,E,T,rf,sigma,iterations):\n",
    "        self.S0 = S0\n",
    "        self.E = E\n",
    "        self.T = T\n",
    "        self.rf = rf\n",
    "        self.sigma = sigma     \n",
    "        self.iterations = iterations \n",
    "\n",
    "\n",
    "    def call_option_simulation(self):\n",
    "\n",
    "        #we have 2 columns: first with 0s the second column will store the payoff\n",
    "        #we need the first column of 0s: payoff function is max(0,S-E) for call option\n",
    "        option_data = np.zeros([self.iterations, 2])\n",
    "\n",
    "        #dimensions: 1 dimensional array with as many items as the itrations\n",
    "        rand = np.random.normal(0, 1, [1, self.iterations])\n",
    "\n",
    "        W = \n",
    "        #equation for the S(t) stock price\n",
    "        stock_price = self.S0*np.exp(self.T*(self.rf - 0.5*self.sigma**2)+self.sigma*np.sqrt(self.T)*rand)\n",
    "\n",
    "        #we need S-E because we have to calculate the max(S-E,0)\n",
    "        option_data[:,1] = stock_price - self.E   \n",
    "\n",
    "        #average for the Monte-Carlo method\n",
    "        #np.amax() returns the max(0,S-E) according to the formula\n",
    "        average = np.sum(np.amax(option_data, axis=1))/float(self.iterations)\n",
    "\n",
    "        #have to use the exp(-rT) discount factor\n",
    "        return np.exp(-1.0*self.rf*self.T)*average\n",
    "\n",
    "\n",
    "    def put_option_simulation(self):\n",
    "\n",
    "        #we have 2 columns: first with 0s the second column will store the payoff\n",
    "        #we need the first column of 0s: payoff function is max(0,E-S) for put option\n",
    "        option_data = np.zeros([self.iterations, 2])\n",
    "\n",
    "        #dimensions: 1 dimensional array with as many items as the itrations\n",
    "        rand = np.random.normal(0, 1, [1, self.iterations])\n",
    "\n",
    "        #equation for the S(t) stock price\n",
    "        stock_price = self.S0*np.exp(self.T*(self.rf - 0.5*self.sigma**2)+self.sigma*np.sqrt(self.T)*rand)\n",
    "\n",
    "        #we need E-S because we have to calculate the max(E-S,0)\n",
    "        option_data[:,1] = self.E - stock_price  \n",
    "\n",
    "        #average for the Monte-Carlo method\n",
    "        #np.amax() returns the max(0,E-S) according to the formula\n",
    "        average = np.sum(np.amax(option_data, axis=1))/float(self.iterations)\n",
    "\n",
    "        #have to use the exp(-rT) discount factor\n",
    "        return np.exp(-1.0*self.rf*self.T)*average"
   ]
  },
  {
   "cell_type": "code",
   "execution_count": 15,
   "id": "8e2cedaf",
   "metadata": {},
   "outputs": [
    {
     "name": "stdout",
     "output_type": "stream",
     "text": [
      "Call option price with Monte-Carlo approach:  10.43416773082983\n",
      "Put option price with Monte-Carlo approach:  5.58494240012129\n"
     ]
    }
   ],
   "source": [
    "S0=100 #underlying stock price at t=0\n",
    "E=100 #strike price\n",
    "T = 1 #expiry\n",
    "rf = 0.05 #risk-free rate\n",
    "sigma=0.2 #volatility of the underlying stock\n",
    "iterations = 1000000 #number of iterations in the Monte-Carlo simulation\t\n",
    "\n",
    "model = OptionPricing(S0,E,T,rf,sigma,iterations)\n",
    "print(\"Call option price with Monte-Carlo approach: \", model.call_option_simulation()) \n",
    "print(\"Put option price with Monte-Carlo approach: \", model.put_option_simulation())"
   ]
  },
  {
   "cell_type": "markdown",
   "id": "a5941bb1",
   "metadata": {},
   "source": [
    "### The call and put option prices from exact solution and MC solution to Black-Scholes equation agree closely"
   ]
  },
  {
   "cell_type": "code",
   "execution_count": null,
   "id": "68c4d7f3",
   "metadata": {},
   "outputs": [],
   "source": []
  }
 ],
 "metadata": {
  "kernelspec": {
   "display_name": "Python 3 (ipykernel)",
   "language": "python",
   "name": "python3"
  },
  "language_info": {
   "codemirror_mode": {
    "name": "ipython",
    "version": 3
   },
   "file_extension": ".py",
   "mimetype": "text/x-python",
   "name": "python",
   "nbconvert_exporter": "python",
   "pygments_lexer": "ipython3",
   "version": "3.9.9"
  }
 },
 "nbformat": 4,
 "nbformat_minor": 5
}
