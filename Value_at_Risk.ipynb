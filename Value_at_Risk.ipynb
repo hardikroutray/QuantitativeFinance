{
 "cells": [
  {
   "cell_type": "markdown",
   "id": "325d9c0d",
   "metadata": {},
   "source": [
    "## Value at Risk\n",
    "https://github.com/hardikroutray/QuantitativeFinance/blob/main/Value_at_Risk.ipynb\n",
    "\n",
    "### VaR = I (  $\\mu$ $\\delta$T -  $\\sigma$ $\\sqrt\\delta T$ z )\n",
    "\n",
    "where \n",
    "\n",
    "### I = Investment, $\\delta$T = Time period,  $\\mu$ = Mean return,  $\\sigma$ = Mean volatility\n",
    "### z = z-score for required Confidence Level say 95%\n"
   ]
  },
  {
   "cell_type": "code",
   "execution_count": 2,
   "id": "e4219177",
   "metadata": {},
   "outputs": [],
   "source": [
    "import numpy as np\n",
    "import yfinance as yf\n",
    "from scipy.stats import norm\n",
    "import pandas as pd\n",
    "import datetime\n",
    "import matplotlib.pyplot as plt"
   ]
  },
  {
   "cell_type": "markdown",
   "id": "b1ae757e",
   "metadata": {},
   "source": [
    "## Exact solution"
   ]
  },
  {
   "cell_type": "code",
   "execution_count": 3,
   "id": "16fb9677",
   "metadata": {},
   "outputs": [],
   "source": [
    "def download_data(stock, start_date, end_date):\n",
    "    data = {}\n",
    "    ticker = yf.download(stock, start_date, end_date)\n",
    "    data[stock] = ticker['Adj Close']\n",
    "    return pd.DataFrame(data)\n",
    "\n",
    "\n",
    "#  calculate the VaR tomorrow (n=1)\n",
    "def calculate_var(position, c, mu, sigma):\n",
    "    var = position * (mu - sigma * norm.ppf(1-c))\n",
    "    return var\n",
    "\n",
    "\n",
    "#  calculate the VaR for any days in the future\n",
    "def calculate_var_n(position, c, mu, sigma, n):\n",
    "    var = position * (mu * n - sigma * np.sqrt(n) * norm.ppf(1-c))\n",
    "    return var"
   ]
  },
  {
   "cell_type": "code",
   "execution_count": 4,
   "id": "e88cbd4d",
   "metadata": {},
   "outputs": [
    {
     "name": "stdout",
     "output_type": "stream",
     "text": [
      "[*********************100%***********************]  1 of 1 completed\n",
      "Value at risk for 1 day at 95 percent CL is: $48643.31\n",
      "Value at risk for 1 month at 95 percent CL is: $265992.92\n"
     ]
    }
   ],
   "source": [
    "start = datetime.datetime(2014, 1, 1)\n",
    "end = datetime.datetime(2022, 10, 10)\n",
    "\n",
    "stock_data = download_data('C', start, end)\n",
    "\n",
    "stock_data['returns'] = np.log(stock_data['C'] / stock_data['C'].shift(1))\n",
    "stock_data = stock_data[1:]\n",
    "# print(stock_data)\n",
    "\n",
    "# this is the investment (stocks or whatever)\n",
    "S = 1e6\n",
    "# confidence level - set it to 95% initially\n",
    "c = 0.99\n",
    "\n",
    "# we assume that daily returns are normally distributed\n",
    "mu = np.mean(stock_data['returns'])\n",
    "sigma = np.std(stock_data['returns'])\n",
    "\n",
    "print(r'Value at risk for 1 day at 95 percent CL is: $%0.2f' % calculate_var_n(S, c, mu, sigma, 1))\n",
    "print(r'Value at risk for 1 month at 95 percent CL is: $%0.2f' % calculate_var_n(S, c, mu, sigma, 30))"
   ]
  },
  {
   "cell_type": "markdown",
   "id": "9b292970",
   "metadata": {},
   "source": [
    "## Monte Carlo\n"
   ]
  },
  {
   "cell_type": "code",
   "execution_count": 7,
   "id": "7e948cb0",
   "metadata": {},
   "outputs": [],
   "source": [
    "def download_data(stock, start, end):\n",
    "    data = {}\n",
    "    ticker = yf.download(stock, start, end)\n",
    "    data['Adj Close'] = ticker['Adj Close']\n",
    "    return pd.DataFrame(data)\n",
    "\n",
    "class ValueAtRiskMonteCarlo:\n",
    "    \n",
    "    def __init__(self, S, mu, sigma, c, n, iterations):\n",
    "        self.S = S\n",
    "        self.mu = mu\n",
    "        self.sigma = sigma\n",
    "        self.c = c\n",
    "        self.n = n\n",
    "        self.iterations = iterations\n",
    "\n",
    "    def simulation(self):\n",
    "        stock_data = np.zeros([self.iterations, 1])\n",
    "        rand = np.random.normal(0, 1, [1, self.iterations])\n",
    "\n",
    "        # equation for the S(t) stock price\n",
    "        stock_price = self.S * np.exp(self.n * (self.mu - 0.5 * self.sigma ** 2) + self.sigma * np.sqrt(self.n) * rand)\n",
    "\n",
    "        # we have to sort the stock prices to determine the percentile\n",
    "        stock_price = np.sort(stock_price)\n",
    "\n",
    "#         fig = plt.figure(figsize=(10,5))\n",
    "#         plt.hist(stock_price,bins=100)\n",
    "#         plt.yscale('log')\n",
    "#         plt.xlim(-1,100)\n",
    "#         plt.show()\n",
    "        \n",
    "        # it depends on the confidence level: 95% -> 5 and 99% -> 1\n",
    "        percentile = np.percentile(stock_price, (1 - self.c) * 100)\n",
    "\n",
    "        return self.S - percentile, stock_price"
   ]
  },
  {
   "cell_type": "code",
   "execution_count": 13,
   "id": "50769d31",
   "metadata": {},
   "outputs": [
    {
     "name": "stdout",
     "output_type": "stream",
     "text": [
      "[*********************100%***********************]  1 of 1 completed\n"
     ]
    },
    {
     "data": {
      "image/png": "[encoded data removed]",
      "text/plain": [
       "<Figure size 720x360 with 1 Axes>"
      ]
     },
     "metadata": {
      "needs_background": "light"
     },
     "output_type": "display_data"
    },
    {
     "name": "stdout",
     "output_type": "stream",
     "text": [
      "Value at risk for 1 day at 95 percent CL is: $33634.30\n"
     ]
    },
    {
     "data": {
      "image/png": "[encoded data removed]",
      "text/plain": [
       "<Figure size 720x360 with 1 Axes>"
      ]
     },
     "metadata": {
      "needs_background": "light"
     },
     "output_type": "display_data"
    },
    {
     "name": "stdout",
     "output_type": "stream",
     "text": [
      "Value at risk for 1 month at 95 percent CL is: $172205.98\n"
     ]
    }
   ],
   "source": [
    "S = 1e6  # this is the investment (stocks or whatever)\n",
    "c = 0.95  # condifence level: this time it is 99%\n",
    "n = 1  # 1 day\n",
    "iterations = 100000  # number of paths in the Monte-Carlo simulation\n",
    "\n",
    "# historical data to approximate mean and standard deviation\n",
    "start_date = datetime.datetime(2014, 1, 1)\n",
    "end_date = datetime.datetime(2022, 10, 10)\n",
    "\n",
    "# download stock related data from Yahoo Finance\n",
    "citi = download_data('C', start_date, end_date)\n",
    "\n",
    "# we can use pct_change() to calculate daily returns\n",
    "citi['returns'] = citi['Adj Close'].pct_change()\n",
    "\n",
    "# we can assume daily returns to be normally sidtributed: mean and variance (standard deviation)\n",
    "# can describe the process\n",
    "mu = np.mean(citi['returns'])\n",
    "sigma = np.std(citi['returns'])\n",
    "\n",
    "model1 = ValueAtRiskMonteCarlo(S, mu, sigma, c, n, iterations)\n",
    "model2 = ValueAtRiskMonteCarlo(S, mu, sigma, c, 30, iterations)\n",
    "\n",
    "# print('Value at risk with Monte-Carlo simulation: $%0.2f' % model.simulation())\n",
    "\n",
    "fig = plt.figure(figsize=(10,5))\n",
    "plt.hist(model1.simulation()[1].flatten(),bins=100)\n",
    "# plt.yscale('log')\n",
    "# plt.xlim(-1,100)\n",
    "plt.show()\n",
    "\n",
    "# print(model1.simulation()[1])\n",
    "      \n",
    "print(r'Value at risk for 1 day at 95 percent CL is: $%0.2f' % model1.simulation()[0])\n",
    "\n",
    "fig = plt.figure(figsize=(10,5))\n",
    "plt.hist(model1.simulation()[1].flatten(),bins=100)\n",
    "# plt.yscale('log')\n",
    "# plt.xlim(-1,100)\n",
    "plt.show()\n",
    "print(r'Value at risk for 1 month at 95 percent CL is: $%0.2f' % model2.simulation()[0])\n",
    "\n"
   ]
  },
  {
   "cell_type": "code",
   "execution_count": null,
   "id": "99f55ccf",
   "metadata": {},
   "outputs": [],
   "source": []
  }
 ],
 "metadata": {
  "kernelspec": {
   "display_name": "Python 3 (ipykernel)",
   "language": "python",
   "name": "python3"
  },
  "language_info": {
   "codemirror_mode": {
    "name": "ipython",
    "version": 3
   },
   "file_extension": ".py",
   "mimetype": "text/x-python",
   "name": "python",
   "nbconvert_exporter": "python",
   "pygments_lexer": "ipython3",
   "version": "3.9.9"
  }
 },
 "nbformat": 4,
 "nbformat_minor": 5
}
