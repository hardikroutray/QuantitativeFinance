{
 "cells": [
  {
   "cell_type": "markdown",
   "id": "eb80c901",
   "metadata": {},
   "source": [
    "# Find the present value of bond price\n",
    "### https://github.com/hardikroutray/QuantitativeFinance/blob/main/CouponBondPricing.ipynb"
   ]
  },
  {
   "cell_type": "markdown",
   "id": "3179da79",
   "metadata": {},
   "source": [
    "##  ◉ Discrete implementation\n",
    "\n",
    "# V = $\\sum_{i = 1}^{T}$ $\\frac{C_{i}}{(1 + r)^{i}}$ + $\\frac{P}{(1 + r)^{T}}$ \n",
    "\n",
    "### where\n",
    "\n",
    "### P = Prinicpal\n",
    "### r = Market interest rate\n",
    "### $C_{i}$ = Coupon payment at i-th year = P $\\times$ Bond interest rate\n",
    "### T = Maturity time"
   ]
  },
  {
   "cell_type": "code",
   "execution_count": 6,
   "id": "d6c4879f",
   "metadata": {},
   "outputs": [],
   "source": [
    "class DiscreteCouponBond:\n",
    "    \n",
    "    def __init__(self, principal, rate, maturity, interest_rate):\n",
    "        self.principal = principal\n",
    "        self.rate = rate / 100\n",
    "        self.maturity = maturity\n",
    "        self.interest_rate = interest_rate / 100\n",
    "\n",
    "    def present_value(self, x, n):\n",
    "        return x / (1+self.interest_rate)**n\n",
    "\n",
    "    def calculate_price(self):\n",
    "\n",
    "        price = 0\n",
    "\n",
    "        # discount the coupon payments\n",
    "        for t in range(1, self.maturity+1):\n",
    "            price = price + self.present_value(self.principal * self.rate, t)\n",
    "\n",
    "        # discount principle amount\n",
    "        price = price + self.present_value(self.principal, self.maturity)\n",
    "\n",
    "        return price"
   ]
  },
  {
   "cell_type": "markdown",
   "id": "ed606649",
   "metadata": {},
   "source": [
    "### Zero Coupon Bonds\n",
    "\n",
    "#### set rate = 0"
   ]
  },
  {
   "cell_type": "code",
   "execution_count": 7,
   "id": "eea2d02c",
   "metadata": {},
   "outputs": [
    {
     "name": "stdout",
     "output_type": "stream",
     "text": [
      "Zero Coupon Bond price: 889.00\n"
     ]
    }
   ],
   "source": [
    "bond = DiscreteCouponBond(1000, 0, 3, 4)\n",
    "print(\"Zero Coupon Bond price: %.2f\" % bond.calculate_price())"
   ]
  },
  {
   "cell_type": "markdown",
   "id": "89fd0ccd",
   "metadata": {},
   "source": [
    "### Coupon Bonds\n",
    "\n",
    "#### set rate to desired value"
   ]
  },
  {
   "cell_type": "code",
   "execution_count": 8,
   "id": "d0d71a5f",
   "metadata": {},
   "outputs": [
    {
     "name": "stdout",
     "output_type": "stream",
     "text": [
      "Bond price: 1166.51\n"
     ]
    }
   ],
   "source": [
    "bond = DiscreteCouponBond(1000, 10, 3, 4)\n",
    "print(\"Bond price: %.2f\" % bond.calculate_price())"
   ]
  },
  {
   "cell_type": "markdown",
   "id": "a9935890",
   "metadata": {},
   "source": [
    "## ◉ Continous implementation\n",
    "\n",
    "# V = $\\sum_{i = 1}^{T}$ $C_{i} e^{-i}$ + $P e^{-T}$ \n",
    "\n",
    "### where\n",
    "\n",
    "### P = Prinicpal\n",
    "### r = Market interest rate\n",
    "### $C_{i}$ = Coupon payment at i-th year = P $\\times$ Bond interest rate\n",
    "### T = Maturity time"
   ]
  },
  {
   "cell_type": "code",
   "execution_count": 11,
   "id": "be2ad855",
   "metadata": {},
   "outputs": [],
   "source": [
    "import numpy as np\n",
    "\n",
    "class ContinousCouponBond:\n",
    "\n",
    "    def __init__(self, principal, rate, maturity, interest_rate):\n",
    "        self.principal = principal\n",
    "        self.rate = rate / 100\n",
    "        self.maturity = maturity\n",
    "        self.interest_rate = interest_rate / 100\n",
    "\n",
    "    def present_value(self, x, n):\n",
    "        return x * np.exp(-self.interest_rate * n)\n",
    "\n",
    "    def calculate_price(self):\n",
    "\n",
    "        price = 0\n",
    "\n",
    "        # discount the coupon payments\n",
    "        for t in range(1, self.maturity+1):\n",
    "            price = price + self.present_value(self.principal * self.rate, t)\n",
    "\n",
    "        # discount principle amount\n",
    "        price = price + self.present_value(self.principal, self.maturity)\n",
    "\n",
    "        return price"
   ]
  },
  {
   "cell_type": "markdown",
   "id": "7ff928d0",
   "metadata": {},
   "source": [
    "### Zero Coupon Bonds\n",
    "\n",
    "#### set bond rate = 0"
   ]
  },
  {
   "cell_type": "code",
   "execution_count": 12,
   "id": "6c4ae719",
   "metadata": {},
   "outputs": [
    {
     "name": "stdout",
     "output_type": "stream",
     "text": [
      "Zero Coupon Bond price: 886.92\n"
     ]
    }
   ],
   "source": [
    "bond = ContinousCouponBond(1000, 0, 3, 4)\n",
    "print(\"Zero Coupon Bond price: %.2f\" % bond.calculate_price())"
   ]
  },
  {
   "cell_type": "markdown",
   "id": "bf522d85",
   "metadata": {},
   "source": [
    "### Coupon Bonds\n",
    "\n",
    "#### set bond rate to desired value"
   ]
  },
  {
   "cell_type": "code",
   "execution_count": 13,
   "id": "ea57116c",
   "metadata": {},
   "outputs": [
    {
     "name": "stdout",
     "output_type": "stream",
     "text": [
      "Bond price: 1164.00\n"
     ]
    }
   ],
   "source": [
    "bond = ContinousCouponBond(1000, 10, 3, 4)\n",
    "print(\"Bond price: %.2f\" % bond.calculate_price())"
   ]
  },
  {
   "cell_type": "markdown",
   "id": "05ea10bc",
   "metadata": {},
   "source": [
    "### The bond prices from discrete and continous implementation agree closely"
   ]
  }
 ],
 "metadata": {
  "kernelspec": {
   "display_name": "Python 3 (ipykernel)",
   "language": "python",
   "name": "python3"
  },
  "language_info": {
   "codemirror_mode": {
    "name": "ipython",
    "version": 3
   },
   "file_extension": ".py",
   "mimetype": "text/x-python",
   "name": "python",
   "nbconvert_exporter": "python",
   "pygments_lexer": "ipython3",
   "version": "3.9.9"
  }
 },
 "nbformat": 4,
 "nbformat_minor": 5
}
