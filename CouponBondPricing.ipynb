{
 "cells": [
  {
   "cell_type": "markdown",
   "id": "2cee609a",
   "metadata": {},
   "source": [
    "# Find the present value of bond price\n",
    "### "
   ]
  },
  {
   "cell_type": "markdown",
   "id": "0f3dba6a",
   "metadata": {},
   "source": [
    "##  ◉ Discrete implementation\n",
    "\n",
    "# V = $\\sum_{i = 1}^{T}$ $\\frac{C_{i}}{(1 + r)^{i}}$ + $\\frac{P}{(1 + r)^{T}}$ \n",
    "\n",
    "### where\n",
    "\n",
    "### P = Prinicpal\n",
    "### r = Market interest rate\n",
    "### $C_{i}$ = Coupon payment at i-th year = P $\\times$ Bond interest rate\n",
    "### T = Maturity time"
   ]
  },
  {
   "cell_type": "code",
   "execution_count": 6,
   "id": "9da81020",
   "metadata": {},
   "outputs": [],
   "source": [
    "class DiscreteCouponBond:\n",
    "    \n",
    "    def __init__(self, principal, rate, maturity, interest_rate):\n",
    "        self.principal = principal\n",
    "        self.rate = rate / 100\n",
    "        self.maturity = maturity\n",
    "        self.interest_rate = interest_rate / 100\n",
    "\n",
    "    def present_value(self, x, n):\n",
    "        return x / (1+self.interest_rate)**n\n",
    "\n",
    "    def calculate_price(self):\n",
    "\n",
    "        price = 0\n",
    "\n",
    "        # discount the coupon payments\n",
    "        for t in range(1, self.maturity+1):\n",
    "            price = price + self.present_value(self.principal * self.rate, t)\n",
    "\n",
    "        # discount principle amount\n",
    "        price = price + self.present_value(self.principal, self.maturity)\n",
    "\n",
    "        return price"
   ]
  },
  {
   "cell_type": "markdown",
   "id": "c46b29bc",
   "metadata": {},
   "source": [
    "### Zero Coupon Bonds\n",
    "\n",
    "#### set rate = 0"
   ]
  },
  {
   "cell_type": "code",
   "execution_count": 7,
   "id": "a1932e64",
   "metadata": {},
   "outputs": [
    {
     "name": "stdout",
     "output_type": "stream",
     "text": [
      "Zero Coupon Bond price: 889.00\n"
     ]
    }
   ],
   "source": [
    "bond = DiscreteCouponBond(1000, 0, 3, 4)\n",
    "print(\"Zero Coupon Bond price: %.2f\" % bond.calculate_price())"
   ]
  },
  {
   "cell_type": "markdown",
   "id": "21e99bec",
   "metadata": {},
   "source": [
    "### Coupon Bonds\n",
    "\n",
    "#### set rate to desired value"
   ]
  },
  {
   "cell_type": "code",
   "execution_count": 8,
   "id": "8ea7301e",
   "metadata": {},
   "outputs": [
    {
     "name": "stdout",
     "output_type": "stream",
     "text": [
      "Bond price: 1166.51\n"
     ]
    }
   ],
   "source": [
    "bond = DiscreteCouponBond(1000, 10, 3, 4)\n",
    "print(\"Bond price: %.2f\" % bond.calculate_price())"
   ]
  },
  {
   "cell_type": "markdown",
   "id": "a07c8b9a",
   "metadata": {},
   "source": [
    "## ◉ Continous implementation\n",
    "\n",
    "# V = $\\sum_{i = 1}^{T}$ $C_{i} e^{-i}$ + $P e^{-T}$ \n",
    "\n",
    "### where\n",
    "\n",
    "### P = Prinicpal\n",
    "### r = Market interest rate\n",
    "### $C_{i}$ = Coupon payment at i-th year = P $\\times$ Bond interest rate\n",
    "### T = Maturity time"
   ]
  },
  {
   "cell_type": "code",
   "execution_count": 11,
   "id": "f40a9421",
   "metadata": {},
   "outputs": [],
   "source": [
    "import numpy as np\n",
    "\n",
    "class ContinousCouponBond:\n",
    "\n",
    "    def __init__(self, principal, rate, maturity, interest_rate):\n",
    "        self.principal = principal\n",
    "        self.rate = rate / 100\n",
    "        self.maturity = maturity\n",
    "        self.interest_rate = interest_rate / 100\n",
    "\n",
    "    def present_value(self, x, n):\n",
    "        return x * np.exp(-self.interest_rate * n)\n",
    "\n",
    "    def calculate_price(self):\n",
    "\n",
    "        price = 0\n",
    "\n",
    "        # discount the coupon payments\n",
    "        for t in range(1, self.maturity+1):\n",
    "            price = price + self.present_value(self.principal * self.rate, t)\n",
    "\n",
    "        # discount principle amount\n",
    "        price = price + self.present_value(self.principal, self.maturity)\n",
    "\n",
    "        return price"
   ]
  },
  {
   "cell_type": "markdown",
   "id": "bbf3c981",
   "metadata": {},
   "source": [
    "### Zero Coupon Bonds\n",
    "\n",
    "#### set bond rate = 0"
   ]
  },
  {
   "cell_type": "code",
   "execution_count": 12,
   "id": "8e89a402",
   "metadata": {},
   "outputs": [
    {
     "name": "stdout",
     "output_type": "stream",
     "text": [
      "Zero Coupon Bond price: 886.92\n"
     ]
    }
   ],
   "source": [
    "bond = ContinousCouponBond(1000, 0, 3, 4)\n",
    "print(\"Zero Coupon Bond price: %.2f\" % bond.calculate_price())"
   ]
  },
  {
   "cell_type": "markdown",
   "id": "2e23f374",
   "metadata": {},
   "source": [
    "### Coupon Bonds\n",
    "\n",
    "#### set bond rate to desired value"
   ]
  },
  {
   "cell_type": "code",
   "execution_count": 13,
   "id": "e50dde3e",
   "metadata": {},
   "outputs": [
    {
     "name": "stdout",
     "output_type": "stream",
     "text": [
      "Bond price: 1164.00\n"
     ]
    }
   ],
   "source": [
    "bond = ContinousCouponBond(1000, 10, 3, 4)\n",
    "print(\"Bond price: %.2f\" % bond.calculate_price())"
   ]
  },
  {
   "cell_type": "code",
   "execution_count": null,
   "id": "ede50d59",
   "metadata": {},
   "outputs": [],
   "source": []
  },
  {
   "cell_type": "code",
   "execution_count": null,
   "id": "3915533b",
   "metadata": {},
   "outputs": [],
   "source": []
  }
 ],
 "metadata": {
  "kernelspec": {
   "display_name": "Python 3 (ipykernel)",
   "language": "python",
   "name": "python3"
  },
  "language_info": {
   "codemirror_mode": {
    "name": "ipython",
    "version": 3
   },
   "file_extension": ".py",
   "mimetype": "text/x-python",
   "name": "python",
   "nbconvert_exporter": "python",
   "pygments_lexer": "ipython3",
   "version": "3.9.9"
  }
 },
 "nbformat": 4,
 "nbformat_minor": 5
}
